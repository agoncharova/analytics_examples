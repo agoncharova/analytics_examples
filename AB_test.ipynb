{
 "cells": [
  {
   "cell_type": "code",
   "execution_count": 26,
   "id": "773222f7",
   "metadata": {},
   "outputs": [],
   "source": [
    "import numpy as np\n",
    "import scipy as sp\n",
    "import matplotlib.pyplot as plt\n",
    "from scipy.stats import ttest_ind"
   ]
  },
  {
   "cell_type": "code",
   "execution_count": 21,
   "id": "8911af64",
   "metadata": {},
   "outputs": [],
   "source": [
    "# Generating the data\n",
    "version_A = np.random.normal(loc=10, scale=2, size=1000)\n",
    "version_B = np.random.normal(loc=12, scale=2, size=1000)"
   ]
  },
  {
   "cell_type": "code",
   "execution_count": 22,
   "id": "b2993a21",
   "metadata": {},
   "outputs": [
    {
     "data": {
      "text/plain": [
       "array([16.64247581,  6.04191962, 12.06668285, 10.28033881, 11.46370118,\n",
       "        9.71818095,  7.45752006,  9.58013828, 11.51785949, 11.59421552])"
      ]
     },
     "execution_count": 22,
     "metadata": {},
     "output_type": "execute_result"
    }
   ],
   "source": [
    "version_A[:10]"
   ]
  },
  {
   "cell_type": "code",
   "execution_count": 23,
   "id": "a61662f9",
   "metadata": {},
   "outputs": [
    {
     "data": {
      "text/plain": [
       "array([13.79679031, 12.36373661, 14.22463682, 11.33498707, 13.81385238,\n",
       "       13.27727335, 12.74728281, 13.50288239,  7.817311  , 13.62668337])"
      ]
     },
     "execution_count": 23,
     "metadata": {},
     "output_type": "execute_result"
    }
   ],
   "source": [
    "version_B[:10]"
   ]
  },
  {
   "cell_type": "markdown",
   "id": "b3b3c120",
   "metadata": {},
   "source": [
    "# Statistical Hypothesis"
   ]
  },
  {
   "cell_type": "markdown",
   "id": "053a79e2",
   "metadata": {},
   "source": [
    "T-Test\n",
    "The t-test is a type of statistical test that is used to test hypotheses and determine whether an observed difference between the means of two samples is statistically significant or occurred by chance.\n",
    "\n",
    "In simple terms, the t-test is a tool that helps to find out whether two things are really different or whether they are only different by chance. It helps to make decisions based on statistical evidence.\n",
    "\n",
    "P-Value\n",
    "The p-value is a numerical result that is produced by a statistical test, such as the t-test. It indicates the probability of obtaining a result equal to or more extreme than the observed result, if the null hypothesis is true.\n",
    "\n",
    "The null hypothesis is a statement that is tested in a statistical test. For example, in the t-test, the null hypothesis is that the two samples have the same mean. If the p-value ≤ 0.05, then the null hypothesis is rejected. This means that there is sufficient statistical evidence to conclude that the two samples have different means.\n",
    "\n",
    "In summary, the p-value is a number that helps to interpret the result of a statistical test. It indicates whether the result is statistically significant or whether it may have occurred by chance.\n",
    "\n",
    "The lower the p-value, the stronger the evidence against the null hypothesis and the stronger the evidence in favor of the alternative hypothesis."
   ]
  },
  {
   "cell_type": "markdown",
   "id": "cdcecd19",
   "metadata": {},
   "source": [
    "# Performing A/B Test"
   ]
  },
  {
   "cell_type": "code",
   "execution_count": 24,
   "id": "56590d2f",
   "metadata": {},
   "outputs": [
    {
     "name": "stdout",
     "output_type": "stream",
     "text": [
      "t = -23.550\n",
      "p = 0.000\n"
     ]
    }
   ],
   "source": [
    "t, p = ttest_ind(version_A, version_B)\n",
    "\n",
    "# Printing the result\n",
    "print(f\"t = {t:.3f}\")\n",
    "print(f\"p = {p:.3f}\")"
   ]
  },
  {
   "cell_type": "markdown",
   "id": "11d7ebbf",
   "metadata": {},
   "source": [
    "The result of the t-test includes two values: t is the test statistic and p is the p-value. The p-value is a measure that highlights the significance of the difference between the two means.\n",
    "\n",
    "A low p-value indicates that it is unlikely that the observed differences between the two versions are due to chance.\n",
    "\n",
    "The p-value of 0.000 indicates that the observed differences between the two versions are statistically significant and that the difference between the means is very unlikely to be due to chance."
   ]
  },
  {
   "cell_type": "markdown",
   "id": "56b3c633",
   "metadata": {},
   "source": [
    "# Visualizing the Results"
   ]
  },
  {
   "cell_type": "code",
   "execution_count": 28,
   "id": "5bfb870a",
   "metadata": {},
   "outputs": [
    {
     "data": {
      "image/png": "[encoded data removed]",
      "text/plain": [
       "<Figure size 432x288 with 1 Axes>"
      ]
     },
     "metadata": {
      "needs_background": "light"
     },
     "output_type": "display_data"
    }
   ],
   "source": [
    "# Calculating the means\n",
    "mean_A = np.mean(version_A)\n",
    "mean_B = np.mean(version_B)\n",
    "\n",
    "# Plotting the data\n",
    "plt.hist(version_A, alpha=0.5, label='Version A')\n",
    "plt.hist(version_B, alpha=0.5, label='Version B')\n",
    "plt.axvline(mean_A, color='r', linestyle='dashed', linewidth=1)\n",
    "plt.axvline(mean_B, color='b', linestyle='dashed', linewidth=1)\n",
    "plt.legend(loc='upper right')\n",
    "plt.show()"
   ]
  },
  {
   "cell_type": "code",
   "execution_count": null,
   "id": "a9904aca",
   "metadata": {},
   "outputs": [],
   "source": []
  },
  {
   "cell_type": "code",
   "execution_count": null,
   "id": "27b195fe",
   "metadata": {},
   "outputs": [],
   "source": []
  }
 ],
 "metadata": {
  "kernelspec": {
   "display_name": "Python 3 (ipykernel)",
   "language": "python",
   "name": "python3"
  },
  "language_info": {
   "codemirror_mode": {
    "name": "ipython",
    "version": 3
   },
   "file_extension": ".py",
   "mimetype": "text/x-python",
   "name": "python",
   "nbconvert_exporter": "python",
   "pygments_lexer": "ipython3",
   "version": "3.9.12"
  }
 },
 "nbformat": 4,
 "nbformat_minor": 5
}
